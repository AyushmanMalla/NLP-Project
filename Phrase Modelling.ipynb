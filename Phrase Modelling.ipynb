{
 "cells": [
  {
   "cell_type": "code",
   "execution_count": null,
   "metadata": {},
   "outputs": [],
   "source": [
    "import os\n",
    "from docx import Document\n",
    "from openpyxl import Workbook\n",
    "\n",
    "def extract_text_from_word(word_file):\n",
    "    doc = Document(word_file)\n",
    "    text = []\n",
    "    for paragraph in doc.paragraphs:\n",
    "        text.append(paragraph.text)\n",
    "    return '\\n'.join(text)\n",
    "\n",
    "def add_text_to_excel(directory, excel_file):\n",
    "    wb = Workbook()\n",
    "    ws = wb.active\n",
    "    row_num = 1\n",
    "    for filename in os.listdir(directory):\n",
    "        if filename.endswith(\".docx\"):\n",
    "            word_file = os.path.join(directory, filename)\n",
    "            text = extract_text_from_word(word_file)\n",
    "            lines = text.split('\\n')\n",
    "            for line in lines:\n",
    "                ws.cell(row=row_num, column=1, value=line)\n",
    "                row_num += 1\n",
    "    wb.save(excel_file)\n",
    "    print(\"Text extracted from Word files in the directory and added to Excel file successfully!\")\n",
    "\n",
    "def main():\n",
    "    directory = '/path/to/your/directory'  # Change to the directory path where your Word files are stored\n",
    "    excel_file = 'output.xlsx'  # Change to your desired Excel file path\n",
    "    add_text_to_excel(directory, excel_file)\n",
    "\n",
    "if __name__ == \"__main__\":\n",
    "    main()\n"
   ]
  },
  {
   "cell_type": "code",
   "execution_count": null,
   "metadata": {},
   "outputs": [],
   "source": [
    "from docx import Document "
   ]
  }
 ],
 "metadata": {
  "kernelspec": {
   "display_name": "EdeX",
   "language": "python",
   "name": "python3"
  },
  "language_info": {
   "codemirror_mode": {
    "name": "ipython",
    "version": 3
   },
   "file_extension": ".py",
   "mimetype": "text/x-python",
   "name": "python",
   "nbconvert_exporter": "python",
   "pygments_lexer": "ipython3",
   "version": "3.10.11"
  }
 },
 "nbformat": 4,
 "nbformat_minor": 2
}
